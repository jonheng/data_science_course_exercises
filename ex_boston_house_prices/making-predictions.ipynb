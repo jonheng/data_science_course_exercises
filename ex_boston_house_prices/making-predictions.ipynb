{
 "cells": [
  {
   "cell_type": "markdown",
   "metadata": {},
   "source": [
    "## Training model"
   ]
  },
  {
   "cell_type": "code",
   "execution_count": 1,
   "metadata": {},
   "outputs": [],
   "source": [
    "import numpy as np\n",
    "import pandas as pd\n",
    "\n",
    "from sklearn import datasets\n",
    "from sklearn import linear_model\n",
    "\n",
    "# load data\n",
    "boston = datasets.load_boston()\n",
    "x = pd.DataFrame(boston.data, columns=boston.feature_names)\n",
    "column_order = x.columns\n",
    "y = pd.DataFrame(boston.target, columns=[\"MEDV\"])\n",
    "\n",
    "lm = linear_model.LinearRegression()\n",
    "model = lm.fit(x, y)"
   ]
  },
  {
   "cell_type": "code",
   "execution_count": 4,
   "metadata": {},
   "outputs": [
    {
     "data": {
      "text/plain": [
       "['column_order.txt']"
      ]
     },
     "execution_count": 4,
     "metadata": {},
     "output_type": "execute_result"
    }
   ],
   "source": [
    "# save the things that we need at prediction time\n",
    "import joblib\n",
    "\n",
    "joblib.dump(model, 'linear_model.joblib') \n",
    "joblib.dump(column_order, 'column_order.txt') "
   ]
  },
  {
   "cell_type": "code",
   "execution_count": null,
   "metadata": {},
   "outputs": [],
   "source": [
    "xyz \n",
    "# (intentionally breaking the notebook flow)\n",
    "# restart notebook at this point to clear memory. Start execution from the next cells"
   ]
  },
  {
   "cell_type": "markdown",
   "metadata": {},
   "source": [
    "## Making predictions"
   ]
  },
  {
   "cell_type": "markdown",
   "metadata": {},
   "source": [
    "Steps in serving predictions\n",
    "\n",
    "- load model, metadata (e.g. column order)\n",
    "- data processing: json payload -> ordered dataframe row -> feature vector\n",
    "- impute any missing data"
   ]
  },
  {
   "cell_type": "code",
   "execution_count": null,
   "metadata": {},
   "outputs": [],
   "source": [
    "import pandas as pd\n",
    "import joblib"
   ]
  },
  {
   "cell_type": "code",
   "execution_count": null,
   "metadata": {
    "scrolled": true
   },
   "outputs": [],
   "source": [
    "# load the artifacts from disk\n",
    "column_order = joblib.load('column_order.txt') "
   ]
  },
  {
   "cell_type": "code",
   "execution_count": null,
   "metadata": {},
   "outputs": [],
   "source": [
    "# let's recall what the features mean\n",
    "print(boston.DESCR)"
   ]
  },
  {
   "cell_type": "code",
   "execution_count": null,
   "metadata": {},
   "outputs": [],
   "source": [
    "request_payload = { \"AGE\": 65.2,\n",
    "                     \"B\": 396.9,\n",
    "                     \"CHAS\": 0,\n",
    "                     \"CRIM\": 0.00632,\n",
    "                     \"DIS\": 4.09,\n",
    "                     \"INDUS\": 2.31,\n",
    "                     \"LSTAT\": 4.98,\n",
    "                     \"NOX\": 0.538,\n",
    "                     \"PTRATIO\": 15.3,\n",
    "                     \"RAD\": 1.0,\n",
    "                     \"RM\": 6.575,\n",
    "                     \"TAX\": 296,\n",
    "                     \"ZN\": 18 \n",
    "                    }\n",
    "\n",
    "# TODO: sort input features in same order as training\n",
    "\n",
    "# TODO: predict output\n"
   ]
  }
 ],
 "metadata": {
  "kernelspec": {
   "display_name": "Python 3",
   "language": "python",
   "name": "python3"
  },
  "language_info": {
   "codemirror_mode": {
    "name": "ipython",
    "version": 3
   },
   "file_extension": ".py",
   "mimetype": "text/x-python",
   "name": "python",
   "nbconvert_exporter": "python",
   "pygments_lexer": "ipython3",
   "version": "3.6.7"
  }
 },
 "nbformat": 4,
 "nbformat_minor": 2
}
